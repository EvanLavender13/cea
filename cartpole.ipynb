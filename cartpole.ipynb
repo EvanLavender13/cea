{
 "cells": [
  {
   "cell_type": "code",
   "execution_count": 1,
   "metadata": {},
   "outputs": [],
   "source": [
    "import gym\n",
    "import numpy as np\n",
    "\n",
    "from cea import cea_gen\n",
    "from operators import mutate_gaussian\n",
    "from operators import nhood_linear\n",
    "from operators import recomb_singlepoint\n",
    "from operators import sample_gaussian\n",
    "from operators import select_linear\n",
    "\n",
    "from functools import partial\n",
    "\n",
    "\n",
    "def sample_action(sample, observation):\n",
    "    return 1 if np.dot(observation, sample) > 0.0 else 0\n",
    "\n",
    "def evaluate_episode(sample, env, length):\n",
    "    total_reward = 0.0\n",
    "    observation = env.reset()\n",
    "    for step in range(length):\n",
    "        action = sample_action(sample, observation)\n",
    "        observation, reward, done, _ = env.step(action)\n",
    "        total_reward += reward\n",
    "        if done: break\n",
    "    return total_reward\n",
    "\n",
    "def evaluate(population, env, length):\n",
    "    eval_ep = partial(evaluate_episode, env=env, length=length)\n",
    "    return np.apply_along_axis(eval_ep, 2, population)"
   ]
  },
  {
   "cell_type": "code",
   "execution_count": 2,
   "metadata": {},
   "outputs": [],
   "source": [
    "DIMS = (4, 4)\n",
    "NF   = 4\n",
    "ENV = gym.make(\"CartPole-v1\")\n",
    "\n",
    "EVAL   = partial(evaluate, env=ENV, length=500)\n",
    "NHOOD  = partial(nhood_linear, n=5)\n",
    "SELECT = select_linear\n",
    "RECOMB = recomb_singlepoint\n",
    "MUTATE = partial(mutate_gaussian, sigma=0.005)\n",
    "\n",
    "pop = sample_gaussian(DIMS + (NF,))\n",
    "fit = EVAL(pop)"
   ]
  },
  {
   "cell_type": "code",
   "execution_count": 3,
   "metadata": {},
   "outputs": [
    {
     "data": {
      "image/png": "[encoded data removed]",
      "text/plain": "<Figure size 720x720 with 25 Axes>"
     },
     "metadata": {},
     "output_type": "display_data"
    }
   ],
   "source": [
    "import matplotlib.pyplot as plt\n",
    "fig, axes = plt.subplots(5, 5, figsize=(10, 10), subplot_kw={\"xticks\": (), \"yticks\": ()})\n",
    "\n",
    "for _, ax in zip(range(5 * 5), axes.ravel()):\n",
    "    pop, fit = cea_gen(pop, fit, DIMS, \n",
    "        f_evaluate=EVAL,\n",
    "        f_nhood   =NHOOD,\n",
    "        f_select  =SELECT,\n",
    "        f_recomb  =RECOMB,\n",
    "        f_mutate  =MUTATE)\n",
    "    ax.imshow(fit, vmin=0, vmax=500)\n",
    "    # print(fit)\n",
    "\n",
    "fig.tight_layout()"
   ]
  },
  {
   "cell_type": "code",
   "execution_count": 4,
   "metadata": {},
   "outputs": [
    {
     "name": "stdout",
     "output_type": "stream",
     "text": [
      "Episode finished after 500 timesteps\n"
     ]
    }
   ],
   "source": [
    "example = pop[0][0]\n",
    "\n",
    "observation = ENV.reset()\n",
    "for step in range(500):\n",
    "    ENV.render()\n",
    "    action = sample_action(example, observation)\n",
    "    observation, _, done, _ = ENV.step(action)\n",
    "    if done:\n",
    "        print(\"Episode finished after {} timesteps\".format(step + 1))\n",
    "        break"
   ]
  }
 ],
 "metadata": {
  "kernelspec": {
   "display_name": "Python 3",
   "name": "python3"
  },
  "language_info": {
   "codemirror_mode": {
    "name": "ipython",
    "version": 3
   },
   "file_extension": ".py",
   "mimetype": "text/x-python",
   "name": "python",
   "nbconvert_exporter": "python",
   "pygments_lexer": "ipython3",
   "version": "3.8.1"
  },
  "orig_nbformat": 2
 },
 "nbformat": 4,
 "nbformat_minor": 2
}