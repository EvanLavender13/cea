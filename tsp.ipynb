{
 "cells": [
  {
   "cell_type": "code",
   "execution_count": 1,
   "metadata": {},
   "outputs": [],
   "source": [
    "import matplotlib.pyplot as plt\n",
    "import networkx as nx\n",
    "import numpy as np\n",
    "\n",
    "from functools import partial\n",
    "\n",
    "from cea import cea_gen\n",
    "from operators import mutate_swap\n",
    "from operators import nhood_linear\n",
    "from operators import recomb_ordered\n",
    "from operators import sample_intperm\n",
    "from operators import select_linear\n",
    "\n",
    "def evaluate_path(path, graph):\n",
    "    n = path.shape[0]\n",
    "    sum = 0.0\n",
    "    for i, p in enumerate(path[:-1]):\n",
    "        pnext = path[i + 1]\n",
    "        sum  += G[p][pnext][\"weight\"]\n",
    "    sum += G[path[0]][path[-1]][\"weight\"]\n",
    "    return -sum\n",
    "\n",
    "def evaluate(population, graph):\n",
    "    eval_p = partial(evaluate_path, graph=graph)\n",
    "    return np.apply_along_axis(eval_p, 2, population)"
   ]
  },
  {
   "cell_type": "code",
   "execution_count": 2,
   "metadata": {},
   "outputs": [
    {
     "name": "stdout",
     "output_type": "stream",
     "text": [
      "777.0 1566.0\n"
     ]
    }
   ],
   "source": [
    "DIMS  = (32, 32)\n",
    "NODES = 25\n",
    "\n",
    "np.random.seed(0)\n",
    "G = nx.complete_graph(NODES)\n",
    "G_pos = nx.spring_layout(G, seed=0)\n",
    "for _, _, w in G.edges(data=True):\n",
    "    w[\"weight\"] = np.random.randint(1, 100)\n",
    "\n",
    "EVAL   = partial(evaluate, graph=G)\n",
    "NHOOD  = partial(nhood_linear, n=9)\n",
    "SELECT = select_linear\n",
    "RECOMB = recomb_ordered\n",
    "MUTATE = mutate_swap\n",
    "\n",
    "pop = sample_intperm(NODES, DIMS + (NODES,))\n",
    "fit = EVAL(pop)\n",
    "print(np.min(-fit), np.max(-fit))"
   ]
  },
  {
   "cell_type": "code",
   "execution_count": 3,
   "metadata": {},
   "outputs": [
    {
     "name": "stdout",
     "output_type": "stream",
     "text": [
      "step ( 10)\n",
      "step ( 20)\n",
      "step ( 30)\n",
      "step ( 40)\n",
      "step ( 50)\n",
      "step ( 60)\n",
      "step ( 70)\n",
      "step ( 80)\n",
      "step ( 90)\n",
      "step (100)\n"
     ]
    }
   ],
   "source": [
    "# fig, axes = plt.subplots(6, 6, figsize=(16, 16), subplot_kw={\"xticks\": (), \"yticks\": ()})\n",
    "\n",
    "# for step, ax in zip(range(6 * 6), axes.ravel()):\n",
    "for step in range(100):\n",
    "    pop, fit = cea_gen(pop, fit, DIMS, \n",
    "        f_evaluate=EVAL,\n",
    "        f_nhood   =NHOOD,\n",
    "        f_select  =SELECT,\n",
    "        f_recomb  =RECOMB,\n",
    "        f_mutate  =MUTATE)\n",
    "    # ax.imshow(-fit)\n",
    "    if (step + 1) % 10 == 0: print(\"step ({:3})\".format(step + 1))"
   ]
  },
  {
   "cell_type": "code",
   "execution_count": 4,
   "metadata": {},
   "outputs": [
    {
     "data": {
      "image/png": "[encoded data removed]",
      "text/plain": "<Figure size 432x288 with 1 Axes>"
     },
     "metadata": {
      "needs_background": "light"
     },
     "output_type": "display_data"
    }
   ],
   "source": [
    "plt.imshow(-fit)\n",
    "plt.tight_layout()"
   ]
  },
  {
   "cell_type": "code",
   "execution_count": 5,
   "metadata": {},
   "outputs": [
    {
     "name": "stdout",
     "output_type": "stream",
     "text": [
      "547.0 1518.0\n"
     ]
    }
   ],
   "source": [
    "print(np.min(-fit), np.max(-fit))"
   ]
  }
 ],
 "metadata": {
  "kernelspec": {
   "display_name": "Python 3",
   "language": "python",
   "name": "python3"
  },
  "language_info": {
   "codemirror_mode": {
    "name": "ipython",
    "version": 3
   },
   "file_extension": ".py",
   "mimetype": "text/x-python",
   "name": "python",
   "nbconvert_exporter": "python",
   "pygments_lexer": "ipython3",
   "version": "3.8.1"
  },
  "orig_nbformat": 2
 },
 "nbformat": 4,
 "nbformat_minor": 2
}